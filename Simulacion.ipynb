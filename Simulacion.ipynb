{
 "cells": [
  {
   "cell_type": "code",
   "execution_count": 1,
   "metadata": {},
   "outputs": [],
   "source": [
    "import numpy as np\n",
    "import pandas as pd\n",
    "import matplotlib.pyplot as plt\n",
    "import seaborn as sns\n",
    "sns.set()\n",
    "\n",
    "from scipy.integrate import solve_ivp\n",
    "from scipy.integrate import odeint\n",
    "from scipy.optimize import fsolve, curve_fit, leastsq\n",
    "from scipy.signal import savgol_filter\n",
    "from scipy.stats import linregress\n",
    "\n",
    "import os\n",
    "import re"
   ]
  },
  {
   "cell_type": "markdown",
   "metadata": {},
   "source": [
    "Defino las reacciones a simular (k estimadas):\n",
    "    \n",
    "$k_1 = 1.0x10^{3} M^{-1} s^{-1} \\hspace{1cm} NO + H_2S \\rightarrow H_2SNO$\n",
    "\n",
    "$k_2 = 1.0x10^{3} M^{-1} s^{-1} \\hspace{1cm} H_2SNO + NO \\rightarrow HSNO + HNO$\n",
    "\n",
    "$k_3 = 1.0x10^{3} M^{-1} s^{-1} \\hspace{1cm} 2 HSNO \\rightarrow HSSH + 2 NO$\n",
    "\n",
    "$k_4 = 5.6x10^{6} M^{-1} s^{-1} \\hspace{1cm} NO + HNO \\rightarrow HN_2O_2$\n",
    "\n",
    "$k_5 = 8x10^{6} M^{-1} s^{-1} \\hspace{1cm} 2 HNO \\rightarrow N_2O$"
   ]
  },
  {
   "cell_type": "code",
   "execution_count": 3,
   "metadata": {},
   "outputs": [],
   "source": [
    "reactions = [\n",
    "    # (coeff, r_stoich, net_stoich)\n",
    "    ('k1', {'[NO]': 1, '[H2S]': 1}, {'[NO]': -1, '[H2S]': -1, '[H2SNO]': 1}),\n",
    "    ('k2', {'[NO]': 1, '[H2SNO]': 1}, {'[NO]': -1, '[H2SNO]': -1, '[HSNO]': 1, '[HNO]': 1}),\n",
    "    ('k3', {'[HSNO]': 2}, {'[HSNO]': -2, '[HSSH]': 1, '[NO]': 2}),\n",
    "    ('k4', {'[NO]': 1, '[HNO]': 1}, {'[NO]': -1, '[HNO]': -1, '[HN2O2]': 1}),\n",
    "    ('k5', {'[HNO]': 2}, {'[HNO]': -2, '[N2O]': 1})\n",
    "]\n",
    "names = '[NO] [H2S] [HSNO] [HNO] [HSSH] [H2SNO] [HN2O2] [N2O]'.split()"
   ]
  },
  {
   "cell_type": "code",
   "execution_count": 171,
   "metadata": {},
   "outputs": [],
   "source": [
    "from operator import mul\n",
    "from functools import reduce\n",
    "import sympy as sym\n",
    "\n",
    "def prod(seq):\n",
    "    return reduce(mul, seq) if seq else 1\n",
    "\n",
    "def mk_exprs_symbs(rxns, names):\n",
    "    # create symbols for reactants\n",
    "    symbs = sym.symbols(names, real=True, nonnegative=True)\n",
    "    # map between reactant symbols and keys in r_stoich, net_stoich\n",
    "    c = dict(zip(names, symbs))\n",
    "    f = {n: 0 for n in names}\n",
    "    k = []\n",
    "    for coeff, r_stoich, net_stoich in rxns:\n",
    "        k.append(sym.S(coeff))\n",
    "        r = k[-1]*prod([c[rk]**p for rk, p in r_stoich.items()])\n",
    "        for net_key, net_mult in net_stoich.items():\n",
    "            f[net_key] += net_mult*r\n",
    "    return [f[n] for n in names], symbs, tuple(k)"
   ]
  },
  {
   "cell_type": "code",
   "execution_count": 172,
   "metadata": {},
   "outputs": [],
   "source": [
    "def replace_fix_and_free(func, fixed_list):\n",
    "    to_replace = [(ki, fixed_list[ki]) for ki in fixed_list.keys()]\n",
    "    for i in range(len(func)):\n",
    "        func[i] = func[i].subs(to_replace)\n",
    "    return func\n",
    "\n",
    "#Construyo el sistema de ecuaciones\n",
    "ydot, y, k = mk_exprs_symbs(reactions, names)\n",
    "\n",
    "#Reemplazo las constantes que considero fijas:\n",
    "#fixed_list = {'k1': 3, 'k2':0, 'k3':0, 'k4': 5.6, 'k5': 8} # En uM-1 s-1\n",
    "fixed_list = {} # En uM-1 s-1\n",
    "ydot = replace_fix_and_free(ydot, fixed_list)\n",
    "\n",
    "#Creo la funcion a evaluar, removiendo las constantes que son fijas\n",
    "k_free = tuple([ki for ki in k if ki not in [sym.Symbol(kj) for kj in fixed_list.keys()]])\n",
    "\n",
    "t = sym.symbols('t')\n",
    "f = sym.lambdify((y, t) + k_free, ydot, 'numpy')\n",
    "\n",
    "#Calculo el jacobiano\n",
    "J = sym.Matrix(ydot).jacobian(y)\n",
    "J_cb = sym.lambdify((y, t) + k_free, J, 'numpy') \n",
    "\n",
    "#Construyo la función\n",
    "def hno_t(tspan, kvals, y0):\n",
    "    k_vals = tuple([i for i in kvals])\n",
    "#    yout = odeint(f, y0, tspan, k_vals, Dfun=J_cb)\n",
    "    yout = odeint(f, y0, tspan, k_vals, atol=1e-16, rtol=1e-16)\n",
    "    return yout"
   ]
  },
  {
   "cell_type": "code",
   "execution_count": 173,
   "metadata": {},
   "outputs": [
    {
     "data": {
      "text/plain": [
       "[[NO], [H2S], [HSNO], [HNO], [HSSH], [H2SNO], [HN2O2], [N2O]]"
      ]
     },
     "execution_count": 173,
     "metadata": {},
     "output_type": "execute_result"
    }
   ],
   "source": [
    "y"
   ]
  },
  {
   "cell_type": "code",
   "execution_count": 174,
   "metadata": {},
   "outputs": [
    {
     "data": {
      "image/png": "[encoded data removed]",
      "text/plain": [
       "<Figure size 432x288 with 1 Axes>"
      ]
     },
     "metadata": {},
     "output_type": "display_data"
    }
   ],
   "source": [
    "tspan = np.linspace(0, 1000, 1001)\n",
    "y0 = [2e-6, 10e-6, 0.0, 0.0, 0.0, 0.0, 0.0, 0.0]\n",
    "\n",
    "kvals = (6.3e3, #k1\n",
    "         100,  #k2\n",
    "         100,    #k3\n",
    "         5.6e6,  #k4\n",
    "         8e6)  #k5\n",
    "\n",
    "sim = hno_t(tspan, kvals, y0)\n",
    "no = sim[:,0]\n",
    "h2s = sim[:,1]\n",
    "hno = sim[:,3]\n",
    "#plt.plot(tspan, no, 'b')\n",
    "#plt.plot(tspan, h2s, 'y')\n",
    "plt.plot(tspan, hno, 'k')\n",
    "plt.show()"
   ]
  },
  {
   "cell_type": "markdown",
   "metadata": {},
   "source": [
    "### Carga de experimentos"
   ]
  },
  {
   "cell_type": "code",
   "execution_count": 159,
   "metadata": {},
   "outputs": [],
   "source": [
    "WD = '/Users/dbikiel/Dropbox/Compartidas/Compartida Dami - Seba/Obtencion Cte NO-tiol/Trazas H2S-NO/'\n",
    "experiments = {}\n",
    "for f in os.listdir(WD):\n",
    "    name = re.split('_|.txt', f)[0:4]\n",
    "    name[1] = re.split('uM', name[1])[0]\n",
    "    name[3] = re.split('uM', name[3])\n",
    "    name[1] = float(name[1])\n",
    "    if name[3][1] == '':\n",
    "        del name[3][1]\n",
    "        name.append('A')\n",
    "    elif name[3][1] == 'b':\n",
    "        del name[3][1]\n",
    "        name.append('B')\n",
    "    name[3] = name[3][0].replace('(','.')\n",
    "    name[3] = float(name[3].replace(')',''))\n",
    "\n",
    "    if name[0] == 'NO':\n",
    "        exp = (name[1], name[3], name[4])\n",
    "    else:\n",
    "        exp = (name[3], name[1], name[4])\n",
    "        \n",
    "    df = pd.read_csv( WD + f, header = None, sep = '\\t')\n",
    "    df.columns = ['time','HNO']\n",
    "    \n",
    "    df.time = pd.to_timedelta(df.time, unit = 'minutes')\n",
    "    df = df.set_index('time')\n",
    "    df.HNO = df.HNO*1e-6\n",
    "    \n",
    "    experiments[exp] = df"
   ]
  },
  {
   "cell_type": "markdown",
   "metadata": {},
   "source": [
    "### Nuevo enfoque"
   ]
  },
  {
   "cell_type": "markdown",
   "metadata": {},
   "source": [
    "Dado un experimento, voy a calcular el error cuadratico medio respecto a simulaciones para una serie de valores de las constantes, para poder estimar los mejores parámetros"
   ]
  },
  {
   "cell_type": "code",
   "execution_count": 163,
   "metadata": {},
   "outputs": [
    {
     "name": "stdout",
     "output_type": "stream",
     "text": [
      "[(0.6, 2.0, 'A'), (2.0, 1.0, 'B'), (0.4, 2.0, 'A'), (2.0, 0.2, 'B'), (0.2, 2.0, 'A'), (2.0, 1.5, 'A'), (2.0, 1.5, 'B'), (1.0, 2.0, 'B'), (1.0, 2.0, 'A'), (2.0, 2.0, 'A'), (2.0, 0.6, 'B'), (0.6, 2.0, 'B'), (1.5, 2.0, 'A'), (1.5, 2.0, 'B'), (2.0, 0.2, 'A'), (0.4, 2.0, 'B'), (2.0, 0.6, 'A'), (2.0, 1.0, 'A'), (2.0, 0.4, 'A'), (2.0, 0.4, 'B')]\n"
     ]
    }
   ],
   "source": [
    "exps = list(experiments.keys())\n",
    "print(exps)"
   ]
  },
  {
   "cell_type": "code",
   "execution_count": 108,
   "metadata": {},
   "outputs": [],
   "source": [
    "from scipy.signal import find_peaks"
   ]
  },
  {
   "cell_type": "markdown",
   "metadata": {},
   "source": [
    "Elijo 1 experimento:"
   ]
  },
  {
   "cell_type": "code",
   "execution_count": 264,
   "metadata": {},
   "outputs": [],
   "source": [
    "exp = exps[-1]"
   ]
  },
  {
   "cell_type": "code",
   "execution_count": 309,
   "metadata": {},
   "outputs": [],
   "source": [
    "y0 = [exp[0]*1e-6, exp[1]*1e-6, 0.0, 0.0, 0.0, 0.0, 0.0, 0.0]\n",
    "tspan = experiments[exp].index.total_seconds().values\n",
    "hno_exp = experiments[exp].HNO.values\n",
    "#tspan = tspan[:400]\n",
    "#hno_exp = hno_exp[:400]\n",
    "\n",
    "\n",
    "k1_val = []\n",
    "k2_val = []\n",
    "k3_val = []\n",
    "hno_max_val = []\n",
    "hno_max_t12_val = []\n",
    "total_error = []\n",
    "\n",
    "for k1 in [1e-5, 1e-4, 1e-3, 1e-2, 1e-1, 1, 1e1, 1e2, 1e4, 1e5, 1e6, 1e7, 1e8]:\n",
    "    for k2 in [1e-5, 1e-4, 1e-3, 1e-2, 1e-1, 1, 1e1, 1e2, 1e4, 1e5, 1e6, 1e7, 1e8]:\n",
    "    #for k2 in [100]:\n",
    "        for k3 in [1e-5, 1e-4, 1e-3, 1e-2, 1e-1, 1, 1e1, 1e2, 1e4, 1e5, 1e6, 1e7, 1e8]:\n",
    "        #for k3 in [100]:\n",
    "\n",
    "            kvals = (k1,     #k1\n",
    "                     k2,     #k2\n",
    "                     k3,     #k3\n",
    "                     5.6e6,  #k4\n",
    "                     8e6)    #k5\n",
    "\n",
    "            sim = hno_t(tspan, kvals, y0)\n",
    "            #plt.plot(tspan, sim[:,3],'k')\n",
    "            res, _ = find_peaks(sim[:,3], height= 0)\n",
    "            \n",
    "            k1_val.append(k1)\n",
    "            k2_val.append(k2)\n",
    "            k3_val.append(k3)\n",
    "            try:\n",
    "                hno_max_val.append(sim[res[0],3])\n",
    "                hno_max_t12_val.append(tspan[[res[0]]])\n",
    "            except:\n",
    "                hno_max_val.append(np.max(sim[:,3]))\n",
    "                hno_max_t12_val.append(tspan[np.argmax(sim[:,3])])\n",
    "            \n",
    "            #s = (sim[:,3] - np.min(sim[:3]))/np.max(sim[:3])\n",
    "            #h = (hno_exp - np.min(hno_exp))/np.max(hno_exp)\n",
    "            #er = np.corrcoef(sim[:,3], hno_exp)[1,0]\n",
    "            er =  (hno_max_val[-1] - np.max(hno_exp))**2\n",
    "            total_error.append(er)\n",
    "                    "
   ]
  },
  {
   "cell_type": "code",
   "execution_count": 310,
   "metadata": {},
   "outputs": [
    {
     "data": {
      "text/html": [
       "<div>\n",
       "<style scoped>\n",
       "    .dataframe tbody tr th:only-of-type {\n",
       "        vertical-align: middle;\n",
       "    }\n",
       "\n",
       "    .dataframe tbody tr th {\n",
       "        vertical-align: top;\n",
       "    }\n",
       "\n",
       "    .dataframe thead th {\n",
       "        text-align: right;\n",
       "    }\n",
       "</style>\n",
       "<table border=\"1\" class=\"dataframe\">\n",
       "  <thead>\n",
       "    <tr style=\"text-align: right;\">\n",
       "      <th></th>\n",
       "      <th>k1</th>\n",
       "      <th>k2</th>\n",
       "      <th>k3</th>\n",
       "      <th>total_error</th>\n",
       "    </tr>\n",
       "  </thead>\n",
       "  <tbody>\n",
       "    <tr>\n",
       "      <th>0</th>\n",
       "      <td>1.000000e-05</td>\n",
       "      <td>1.000000e-05</td>\n",
       "      <td>1.000000e-05</td>\n",
       "      <td>6.523389e-15</td>\n",
       "    </tr>\n",
       "    <tr>\n",
       "      <th>1</th>\n",
       "      <td>1.000000e-05</td>\n",
       "      <td>1.000000e-05</td>\n",
       "      <td>1.000000e-04</td>\n",
       "      <td>6.523389e-15</td>\n",
       "    </tr>\n",
       "    <tr>\n",
       "      <th>2</th>\n",
       "      <td>1.000000e-05</td>\n",
       "      <td>1.000000e-05</td>\n",
       "      <td>1.000000e-03</td>\n",
       "      <td>6.523389e-15</td>\n",
       "    </tr>\n",
       "    <tr>\n",
       "      <th>3</th>\n",
       "      <td>1.000000e-05</td>\n",
       "      <td>1.000000e-05</td>\n",
       "      <td>1.000000e-02</td>\n",
       "      <td>6.523389e-15</td>\n",
       "    </tr>\n",
       "    <tr>\n",
       "      <th>4</th>\n",
       "      <td>1.000000e-05</td>\n",
       "      <td>1.000000e-05</td>\n",
       "      <td>1.000000e-01</td>\n",
       "      <td>6.523389e-15</td>\n",
       "    </tr>\n",
       "    <tr>\n",
       "      <th>...</th>\n",
       "      <td>...</td>\n",
       "      <td>...</td>\n",
       "      <td>...</td>\n",
       "      <td>...</td>\n",
       "    </tr>\n",
       "    <tr>\n",
       "      <th>2192</th>\n",
       "      <td>1.000000e+08</td>\n",
       "      <td>1.000000e+08</td>\n",
       "      <td>1.000000e+04</td>\n",
       "      <td>7.271597e-15</td>\n",
       "    </tr>\n",
       "    <tr>\n",
       "      <th>2193</th>\n",
       "      <td>1.000000e+08</td>\n",
       "      <td>1.000000e+08</td>\n",
       "      <td>1.000000e+05</td>\n",
       "      <td>7.257799e-15</td>\n",
       "    </tr>\n",
       "    <tr>\n",
       "      <th>2194</th>\n",
       "      <td>1.000000e+08</td>\n",
       "      <td>1.000000e+08</td>\n",
       "      <td>1.000000e+06</td>\n",
       "      <td>7.126619e-15</td>\n",
       "    </tr>\n",
       "    <tr>\n",
       "      <th>2195</th>\n",
       "      <td>1.000000e+08</td>\n",
       "      <td>1.000000e+08</td>\n",
       "      <td>1.000000e+07</td>\n",
       "      <td>6.252426e-15</td>\n",
       "    </tr>\n",
       "    <tr>\n",
       "      <th>2196</th>\n",
       "      <td>1.000000e+08</td>\n",
       "      <td>1.000000e+08</td>\n",
       "      <td>1.000000e+08</td>\n",
       "      <td>4.566775e-15</td>\n",
       "    </tr>\n",
       "  </tbody>\n",
       "</table>\n",
       "<p>2197 rows × 4 columns</p>\n",
       "</div>"
      ],
      "text/plain": [
       "                k1            k2            k3   total_error\n",
       "0     1.000000e-05  1.000000e-05  1.000000e-05  6.523389e-15\n",
       "1     1.000000e-05  1.000000e-05  1.000000e-04  6.523389e-15\n",
       "2     1.000000e-05  1.000000e-05  1.000000e-03  6.523389e-15\n",
       "3     1.000000e-05  1.000000e-05  1.000000e-02  6.523389e-15\n",
       "4     1.000000e-05  1.000000e-05  1.000000e-01  6.523389e-15\n",
       "...            ...           ...           ...           ...\n",
       "2192  1.000000e+08  1.000000e+08  1.000000e+04  7.271597e-15\n",
       "2193  1.000000e+08  1.000000e+08  1.000000e+05  7.257799e-15\n",
       "2194  1.000000e+08  1.000000e+08  1.000000e+06  7.126619e-15\n",
       "2195  1.000000e+08  1.000000e+08  1.000000e+07  6.252426e-15\n",
       "2196  1.000000e+08  1.000000e+08  1.000000e+08  4.566775e-15\n",
       "\n",
       "[2197 rows x 4 columns]"
      ]
     },
     "execution_count": 310,
     "metadata": {},
     "output_type": "execute_result"
    }
   ],
   "source": [
    "error_df = pd.DataFrame(np.array([k1_val, k2_val, k3_val, total_error]).T)\n",
    "error_df.columns = ['k1','k2','k3', 'total_error']\n",
    "error_df"
   ]
  },
  {
   "cell_type": "code",
   "execution_count": 311,
   "metadata": {},
   "outputs": [
    {
     "data": {
      "text/plain": [
       "array([1.e+06, 1.e+08, 1.e+08])"
      ]
     },
     "execution_count": 311,
     "metadata": {},
     "output_type": "execute_result"
    }
   ],
   "source": [
    "vals = error_df.sort_values(by = 'total_error').head(1).values\n",
    "vals[0][0:3]"
   ]
  },
  {
   "cell_type": "code",
   "execution_count": 312,
   "metadata": {},
   "outputs": [
    {
     "data": {
      "text/plain": [
       "[<matplotlib.lines.Line2D at 0x7fb93c0af550>]"
      ]
     },
     "execution_count": 312,
     "metadata": {},
     "output_type": "execute_result"
    },
    {
     "data": {
      "image/png": "[encoded data removed]",
      "text/plain": [
       "<Figure size 432x288 with 1 Axes>"
      ]
     },
     "metadata": {},
     "output_type": "display_data"
    }
   ],
   "source": [
    "kvals = (vals[0][0], vals[0][1], vals[0][2], 5.6e6, 8e6)\n",
    "sim = hno_t(tspan, kvals, y0)\n",
    "plt.plot(tspan, hno_exp, 'r.')\n",
    "plt.plot(tspan, sim[:,3])"
   ]
  },
  {
   "cell_type": "code",
   "execution_count": 287,
   "metadata": {},
   "outputs": [
    {
     "data": {
      "text/plain": [
       "-0.3903886689979153"
      ]
     },
     "execution_count": 287,
     "metadata": {},
     "output_type": "execute_result"
    }
   ],
   "source": [
    "np.corrcoef(sim[:,3], hno_exp)[1,0]"
   ]
  },
  {
   "cell_type": "code",
   "execution_count": null,
   "metadata": {},
   "outputs": [],
   "source": []
  }
 ],
 "metadata": {
  "kernelspec": {
   "display_name": "Python 3",
   "language": "python",
   "name": "python3"
  },
  "language_info": {
   "codemirror_mode": {
    "name": "ipython",
    "version": 3
   },
   "file_extension": ".py",
   "mimetype": "text/x-python",
   "name": "python",
   "nbconvert_exporter": "python",
   "pygments_lexer": "ipython3",
   "version": "3.7.6"
  }
 },
 "nbformat": 4,
 "nbformat_minor": 4
}
