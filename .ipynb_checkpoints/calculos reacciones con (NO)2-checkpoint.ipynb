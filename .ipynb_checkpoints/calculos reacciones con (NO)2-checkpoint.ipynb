{
 "cells": [
  {
   "cell_type": "code",
   "execution_count": 1,
   "metadata": {},
   "outputs": [],
   "source": [
    "import numpy as np\n",
    "import pandas as pd\n",
    "import matplotlib.pyplot as plt\n",
    "import seaborn as sns\n",
    "sns.set()\n",
    "\n",
    "from scipy.integrate import solve_ivp\n",
    "from scipy.integrate import odeint\n",
    "from scipy.optimize import fsolve"
   ]
  },
  {
   "cell_type": "code",
   "execution_count": 8,
   "metadata": {},
   "outputs": [],
   "source": [
    "reactions = [\n",
    "    # (coeff, r_stoich, net_stoich)\n",
    "    ('k1', {'[NO]': 2}, {'[NO]': -2, '[N2O2]': 1}),\n",
    "    ('k2', {'[N2O2]': 1, '[RSH]': 1}, {'[N2O2]': -1, '[RSH]': -1, '[RSNO]': 1, '[HNO]': 1}),\n",
    "    ('k3', {'[RSNO]': 2}, {'[RSNO]': -2, '[RSSR]': 1, '[N2O2]': 1}),\n",
    "    ('k4', {'[HNO]': 2}, {'[HNO]': -2, '[N2O]': 1}),\n",
    "    ('k5', {'[N2O2]': 1, '[HNO]':1}, {'[N2O2]': -1, '[HNO]': -1, '[HNO2]': 1, '[N2O]': 1})\n",
    "]\n",
    "names = '[NO] [N2O2] [RSH] [RSNO] [HNO] [RSSR] [HNO2] [N2O]'.split()"
   ]
  },
  {
   "cell_type": "code",
   "execution_count": 9,
   "metadata": {},
   "outputs": [],
   "source": [
    "from operator import mul\n",
    "from functools import reduce\n",
    "import sympy as sym\n",
    "\n",
    "def prod(seq):\n",
    "    return reduce(mul, seq) if seq else 1\n",
    "\n",
    "def mk_exprs_symbs(rxns, names):\n",
    "    # create symbols for reactants\n",
    "    symbs = sym.symbols(names, real=True, nonnegative=True)\n",
    "    # map between reactant symbols and keys in r_stoich, net_stoich\n",
    "    c = dict(zip(names, symbs))\n",
    "    f = {n: 0 for n in names}\n",
    "    k = []\n",
    "    for coeff, r_stoich, net_stoich in rxns:\n",
    "        k.append(sym.S(coeff))\n",
    "        r = k[-1]*prod([c[rk]**p for rk, p in r_stoich.items()])  # EXERCISE: c[rk]**p\n",
    "        for net_key, net_mult in net_stoich.items():\n",
    "            f[net_key] += net_mult*r  # EXERCISE: net_mult*r\n",
    "    return [f[n] for n in names], symbs, tuple(k)"
   ]
  },
  {
   "cell_type": "code",
   "execution_count": 10,
   "metadata": {},
   "outputs": [
    {
     "data": {
      "image/png": "[encoded data removed]",
      "text/latex": [
       "$\\displaystyle \\left[ - 2 [NO]^{2} k_{1}, \\  - [HNO] [N2O2] k_{5} - [N2O2] [RSH] k_{2} + [NO]^{2} k_{1} + [RSNO]^{2} k_{3}, \\  - [N2O2] [RSH] k_{2}, \\  [N2O2] [RSH] k_{2} - 2 [RSNO]^{2} k_{3}, \\  - 2 [HNO]^{2} k_{4} - [HNO] [N2O2] k_{5} + [N2O2] [RSH] k_{2}, \\  [RSNO]^{2} k_{3}, \\  [HNO] [N2O2] k_{5}, \\  [HNO]^{2} k_{4} + [HNO] [N2O2] k_{5}\\right]$"
      ],
      "text/plain": [
       "⎡       2                                              2            2         \n",
       "⎣-2⋅[NO] ⋅k₁, -[HNO]⋅[N2O2]⋅k₅ - [N2O2]⋅[RSH]⋅k₂ + [NO] ⋅k₁ + [RSNO] ⋅k₃, -[N2\n",
       "\n",
       "                                        2              2                      \n",
       "O2]⋅[RSH]⋅k₂, [N2O2]⋅[RSH]⋅k₂ - 2⋅[RSNO] ⋅k₃, - 2⋅[HNO] ⋅k₄ - [HNO]⋅[N2O2]⋅k₅ \n",
       "\n",
       "                         2                           2                     ⎤\n",
       "+ [N2O2]⋅[RSH]⋅k₂, [RSNO] ⋅k₃, [HNO]⋅[N2O2]⋅k₅, [HNO] ⋅k₄ + [HNO]⋅[N2O2]⋅k₅⎦"
      ]
     },
     "execution_count": 10,
     "metadata": {},
     "output_type": "execute_result"
    }
   ],
   "source": [
    "sym.init_printing()\n",
    "ydot, y, k = mk_exprs_symbs(reactions, names)\n",
    "ydot"
   ]
  },
  {
   "cell_type": "markdown",
   "metadata": {},
   "source": [
    "La kp de la reacción 2NO --> (NO)2 es aproximadamente 1.5x10-4 bar.  Transformando las presiones a concentraciones, Kc es aproximadamente:"
   ]
  },
  {
   "cell_type": "code",
   "execution_count": 12,
   "metadata": {},
   "outputs": [
    {
     "data": {
      "image/png": "[encoded data removed]",
      "text/latex": [
       "$\\displaystyle 0.0037101$"
      ],
      "text/plain": [
       "0.0037101"
      ]
     },
     "execution_count": 12,
     "metadata": {},
     "output_type": "execute_result"
    }
   ],
   "source": [
    "1.5e-4 * 0.083*298 # bar-1 x l bar K-1 mol-1 x K = l mol-1"
   ]
  },
  {
   "cell_type": "markdown",
   "metadata": {},
   "source": [
    "Los estados de transición calculados por Mateus son:\n",
    "\n",
    "NO + HS- --> DG# = 31.81 kcal/mol\n",
    "(NO)2 + HS- --> DG# = 17.18 kcal/mol\n",
    "\n",
    "\n",
    "De acuerdo a Eyring:\n",
    "\n",
    "k = kb * T / h * e -DG/RT\n",
    "\n",
    "Reemplazando los valores:\n",
    "kb = 1.381e-23 J/K\n",
    "T = 298K\n",
    "h = 6.626e-34 Js\n",
    "\n",
    "obtenemos para NO:"
   ]
  },
  {
   "cell_type": "code",
   "execution_count": 14,
   "metadata": {},
   "outputs": [
    {
     "data": {
      "image/png": "[encoded data removed]",
      "text/latex": [
       "$\\displaystyle 2.8982236063617945e-11$"
      ],
      "text/plain": [
       "2.8982236063617945e-11"
      ]
     },
     "execution_count": 14,
     "metadata": {},
     "output_type": "execute_result"
    }
   ],
   "source": [
    "1.381e-23*298/6.626e-34 * np.exp(-31.81/(1.987e-3 * 298))"
   ]
  },
  {
   "cell_type": "markdown",
   "metadata": {},
   "source": [
    "y para (NO)2:"
   ]
  },
  {
   "cell_type": "code",
   "execution_count": 16,
   "metadata": {},
   "outputs": [
    {
     "data": {
      "image/png": "[encoded data removed]",
      "text/latex": [
       "$\\displaystyle 1.557747872921519$"
      ],
      "text/plain": [
       "1.557747872921519"
      ]
     },
     "execution_count": 16,
     "metadata": {},
     "output_type": "execute_result"
    }
   ],
   "source": [
    "1.381e-23*298/6.626e-34 * np.exp(-17.18/(1.987e-3 * 298))"
   ]
  },
  {
   "cell_type": "code",
   "execution_count": 23,
   "metadata": {},
   "outputs": [
    {
     "data": {
      "image/png": "[encoded data removed]",
      "text/latex": [
       "$\\displaystyle 3.700000000000001e-13$"
      ],
      "text/plain": [
       "3.700000000000001e-13"
      ]
     },
     "execution_count": 23,
     "metadata": {},
     "output_type": "execute_result"
    }
   ],
   "source": [
    "10.0e-6**2*3.7e-3"
   ]
  },
  {
   "cell_type": "code",
   "execution_count": 24,
   "metadata": {},
   "outputs": [
    {
     "data": {
      "image/png": "[encoded data removed]",
      "text/latex": [
       "$\\displaystyle 5.92e-13$"
      ],
      "text/plain": [
       "5.92e-13"
      ]
     },
     "execution_count": 24,
     "metadata": {},
     "output_type": "execute_result"
    }
   ],
   "source": [
    "1.6*3.7e-13"
   ]
  },
  {
   "cell_type": "code",
   "execution_count": 25,
   "metadata": {},
   "outputs": [
    {
     "data": {
      "image/png": "[encoded data removed]",
      "text/latex": [
       "$\\displaystyle 2.89e-16$"
      ],
      "text/plain": [
       "2.89e-16"
      ]
     },
     "execution_count": 25,
     "metadata": {},
     "output_type": "execute_result"
    }
   ],
   "source": [
    "2.89e-11*10.0e-6"
   ]
  },
  {
   "cell_type": "code",
   "execution_count": 26,
   "metadata": {},
   "outputs": [
    {
     "data": {
      "image/png": "[encoded data removed]",
      "text/latex": [
       "$\\displaystyle 2048.4429065743943$"
      ],
      "text/plain": [
       "2048.4429065743943"
      ]
     },
     "execution_count": 26,
     "metadata": {},
     "output_type": "execute_result"
    }
   ],
   "source": [
    "5.92e-13/2.89e-16"
   ]
  },
  {
   "cell_type": "code",
   "execution_count": null,
   "metadata": {},
   "outputs": [],
   "source": []
  }
 ],
 "metadata": {
  "kernelspec": {
   "display_name": "Python 3",
   "language": "python",
   "name": "python3"
  },
  "language_info": {
   "codemirror_mode": {
    "name": "ipython",
    "version": 3
   },
   "file_extension": ".py",
   "mimetype": "text/x-python",
   "name": "python",
   "nbconvert_exporter": "python",
   "pygments_lexer": "ipython3",
   "version": "3.7.4"
  }
 },
 "nbformat": 4,
 "nbformat_minor": 2
}
