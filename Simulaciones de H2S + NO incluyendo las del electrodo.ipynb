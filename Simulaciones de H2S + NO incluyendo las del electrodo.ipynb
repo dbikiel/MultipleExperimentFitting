{
 "cells": [
  {
   "cell_type": "code",
   "execution_count": 85,
   "metadata": {},
   "outputs": [],
   "source": [
    "import numpy as np\n",
    "import pandas as pd\n",
    "import matplotlib.pyplot as plt\n",
    "import seaborn as sns\n",
    "sns.set()\n",
    "\n",
    "from scipy.integrate import solve_ivp\n",
    "from scipy.integrate import odeint\n",
    "from scipy.optimize import fsolve, curve_fit, leastsq\n",
    "from scipy.signal import savgol_filter\n",
    "from scipy.stats import linregress\n",
    "\n",
    "import os\n",
    "import re"
   ]
  },
  {
   "cell_type": "markdown",
   "metadata": {},
   "source": [
    "Primero Defino las constantes que determinan la cinética del electrodo:\n",
    "\n",
    "$k_{e1} = 3x10^{4} M^{-1} s^{-1} \\hspace{1cm} CoIIIP + HNO  \\rightarrow CoIIIPNO^- + H^+$\n",
    "\n",
    "$k_{e2} = 3.5x10^{-3} s^{-1} \\hspace{1cm} CoIIIPNO^-  + H^+ \\rightarrow CoIIIP + HNO$ \n",
    "\n",
    "$k_{e3} = 5.4x10^{-4} s^{-1} \\hspace{1cm} CoIIIPNO^- \\rightarrow CoIIPNO + e^-$ \n",
    "\n",
    "$k_{e4} = 5.2x10^{-3} s^{-1} \\hspace{1cm} CoIIPNO \\rightarrow CoIIIP + NO$ \n",
    "\n",
    "\n",
    "Defino las reacciones a simular (k estimadas):\n",
    "    \n",
    "$k_1 = 1.0x10^{3} M^{-1} s^{-1} \\hspace{1cm} NO + H_2S \\rightarrow H_2SNO$\n",
    "\n",
    "$k_2 = 1.0x10^{3} M^{-1} s^{-1} \\hspace{1cm} H_2SNO + NO \\rightarrow HSNO + HNO$\n",
    "\n",
    "$k_3 = 1.0x10^{3} M^{-1} s^{-1} \\hspace{1cm} 2 HSNO \\rightarrow HSSH + 2 NO$\n",
    "\n",
    "$k_4 = 5.6x10^{6} M^{-1} s^{-1} \\hspace{1cm} NO + HNO \\rightarrow HN_2O_2$\n",
    "\n",
    "$k_5 = 8x10^{6} M^{-1} s^{-1} \\hspace{1cm} 2 HNO \\rightarrow N_2O$\n",
    "\n",
    "$k_6 = 1x10^{3} s^{-1} \\hspace{1cm} H_2SNO \\rightarrow HNO + HS$\n",
    "\n",
    "$k_7 = 1x10^{3} M^{-1} s^{-1} \\hspace{1cm} 2 HS \\rightarrow HSSH$\n",
    "\n",
    "$k_8 = 1x10^{3} M^{-1} s^{-1} \\hspace{1cm} HS + NO \\rightarrow HSNO$\n",
    "\n",
    "PROBAR:\n",
    "NO + H2S --> HNO + HS\n",
    "2 HS --> HSSH\n",
    "HS + NO --> HSNO\n",
    "2 HSNO --> HSSH + 2 NO "
   ]
  },
  {
   "cell_type": "code",
   "execution_count": 214,
   "metadata": {},
   "outputs": [],
   "source": [
    "reactions = [\n",
    "    # (coeff, r_stoich, net_stoich)\n",
    "    ('ke1', {'[CoIIIP]': 1, '[HNO]': 1}, {'[CoIIIP]': -1, '[HNO]': -1, '[CoIIIPNO]': 1}),\n",
    "    ('ke2', {'[CoIIIPNO]': 1}, {'[CoIIIPNO]': -1, '[HNO]': 1, '[CoIIIP]': 1}),\n",
    "    ('ke3', {'[CoIIIPNO]': 1}, {'[CoIIIPNO]': -1,'[CoIIPNO]': 1, '[e]': 1}),\n",
    "    ('ke4', {'[CoIIPNO]': 1}, {'[CoIIPNO]': -1, '[CoIIIP]': 1, '[NO]':1}),\n",
    "    ('k1', {'[NO]': 1, '[H2S]': 1}, {'[NO]': -1, '[H2S]': -1, '[H2SNO]': 1}),\n",
    "    ('k2', {'[NO]': 1, '[H2SNO]': 1}, {'[NO]': -1, '[H2SNO]': -1, '[HSNO]': 1, '[HNO]': 1}),\n",
    "    ('k3', {'[HSNO]': 2}, {'[HSNO]': -2, '[HSSH]': 1, '[NO]': 2}),\n",
    "    ('k4', {'[NO]': 1, '[HNO]': 1}, {'[NO]': -1, '[HNO]': -1, '[HN2O2]': 1}),\n",
    "    ('k5', {'[HNO]': 2}, {'[HNO]': -2, '[N2O]': 1}),\n",
    "    ('k6', {'[H2SNO]': 1}, {'[H2SNO]': -1, '[HNO]': 1, '[HS]':1}),\n",
    "    ('k7', {'[HS]': 2}, {'[HS]': -2, '[HSSH]': 1}),\n",
    "    ('k8', {'[HS]': 1, '[NO]': 1}, {'[HS]': -1, '[NO]': -1, '[HSNO]':1})\n",
    "]\n",
    "names = '[NO] [H2S] [HSNO] [HNO] [HSSH] [H2SNO] [HN2O2] [N2O] [HS] [CoIIIP] [CoIIIPNO] [CoIIPNO] [e]'.split()"
   ]
  },
  {
   "cell_type": "code",
   "execution_count": 215,
   "metadata": {},
   "outputs": [],
   "source": [
    "from operator import mul\n",
    "from functools import reduce\n",
    "import sympy as sym\n",
    "\n",
    "def prod(seq):\n",
    "    return reduce(mul, seq) if seq else 1\n",
    "\n",
    "def mk_exprs_symbs(rxns, names):\n",
    "    # create symbols for reactants\n",
    "    symbs = sym.symbols(names, real=True, nonnegative=True)\n",
    "    # map between reactant symbols and keys in r_stoich, net_stoich\n",
    "    c = dict(zip(names, symbs))\n",
    "    f = {n: 0 for n in names}\n",
    "    k = []\n",
    "    for coeff, r_stoich, net_stoich in rxns:\n",
    "        k.append(sym.S(coeff))\n",
    "        r = k[-1]*prod([c[rk]**p for rk, p in r_stoich.items()])\n",
    "        for net_key, net_mult in net_stoich.items():\n",
    "            f[net_key] += net_mult*r\n",
    "    return [f[n] for n in names], symbs, tuple(k)"
   ]
  },
  {
   "cell_type": "code",
   "execution_count": 216,
   "metadata": {},
   "outputs": [],
   "source": [
    "def replace_fix_and_free(func, fixed_list):\n",
    "    to_replace = [(ki, fixed_list[ki]) for ki in fixed_list.keys()]\n",
    "    for i in range(len(func)):\n",
    "        func[i] = func[i].subs(to_replace)\n",
    "    return func"
   ]
  },
  {
   "cell_type": "code",
   "execution_count": 256,
   "metadata": {},
   "outputs": [],
   "source": [
    "#Construyo el sistema de ecuaciones\n",
    "ydot, y, k = mk_exprs_symbs(reactions, names)\n",
    "\n",
    "#Reemplazo las constantes que considero fijas:\n",
    "fixed_list = {'ke1': 3e4, 'ke2': 3.5e-3, 'ke4': 5.2e-3, 'k4': 5.8e6, 'k5': 8.0e6, 'k6':0, 'k7':0, 'k8':0} # En M-1 s-1\n",
    "#fixed_list = {} # En uM-1 s-1\n",
    "ydot = replace_fix_and_free(ydot, fixed_list)\n",
    "\n",
    "#Creo la funcion a evaluar, removiendo las constantes que son fijas\n",
    "k_free = tuple([ki for ki in k if ki not in [sym.Symbol(kj) for kj in fixed_list.keys()]])\n",
    "\n",
    "t = sym.symbols('t')\n",
    "f = sym.lambdify((y, t) + k_free, ydot, 'numpy')\n",
    "\n",
    "#Calculo el jacobiano\n",
    "J = sym.Matrix(ydot).jacobian(y)\n",
    "J_cb = sym.lambdify((y, t) + k_free, J, 'numpy') \n",
    "\n",
    "#Construyo la función\n",
    "def sim_t(tspan, kvals, y0):\n",
    "    k_vals = tuple([i for i in kvals])\n",
    "    yout = odeint(f, y0, tspan, k_vals, atol=1e-16, rtol=1e-16)\n",
    "    return yout[:,-1]"
   ]
  },
  {
   "cell_type": "markdown",
   "metadata": {},
   "source": [
    "Asumiendo una cobertura de $4.3x10^{-12} mol/cm^2$ y un area de electrodo de $1.4 cm^2$, la \"concentración\" de CoIIIP en el electrodo es de $1.2x10^{-9} M$ (para 5 mL de solución)"
   ]
  },
  {
   "cell_type": "code",
   "execution_count": 266,
   "metadata": {},
   "outputs": [
    {
     "name": "stderr",
     "output_type": "stream",
     "text": [
      "/Users/dbikiel/opt/anaconda3/envs/test/lib/python3.7/site-packages/scipy/integrate/odepack.py:248: ODEintWarning: Excess work done on this call (perhaps wrong Dfun type). Run with full_output = 1 to get quantitative information.\n",
      "  warnings.warn(warning_msg, ODEintWarning)\n"
     ]
    },
    {
     "data": {
      "image/png": "[encoded data removed]",
      "text/plain": [
       "<Figure size 432x288 with 1 Axes>"
      ]
     },
     "metadata": {},
     "output_type": "display_data"
    }
   ],
   "source": [
    "tspan = np.linspace(0, 1000, 1001)\n",
    "\n",
    "for NO_0 in [1.0,  2.0]:\n",
    "    for H2S_0 in [1.0, 2.0]:\n",
    "        y0 = [NO_0*1e-6, H2S_0*1e-6, 0.0, 0.0, 0.0, 0.0, 0.0, 0.0, 0.0, 1.2e-9, 0.0, 0.0, 0.0]\n",
    "        \n",
    "        kvals = (1e-2, 1e6, 1e9, 1e-2)\n",
    "\n",
    "        sim = sim_t(tspan, kvals, y0)\n",
    "        I = sim*96500\n",
    "        #plt.plot(tspan, no, 'b')\n",
    "        #plt.plot(tspan, h2s, 'y')\n",
    "        plt.plot(tspan, I, label = 'NO: ' + str(NO_0) + ' uM H2S: ' + str(H2S_0)+ ' uM')\n",
    "\n",
    "plt.legend()\n",
    "plt.show()"
   ]
  },
  {
   "cell_type": "markdown",
   "metadata": {},
   "source": [
    "Cargo los experimentos de H2S"
   ]
  },
  {
   "cell_type": "code",
   "execution_count": 279,
   "metadata": {},
   "outputs": [],
   "source": [
    "WD = '/Users/dbikiel/Dropbox/Compartidas/Compartida Dami - Seba/Obtencion Cte NO-tiol/Trazas H2S-NO/'\n",
    "experiments = {}\n",
    "for file in os.listdir(WD):\n",
    "    name = re.split('_|.txt', file)[0:4]\n",
    "    name[1] = re.split('uM', name[1])[0]\n",
    "    name[3] = re.split('uM', name[3])\n",
    "    name[1] = float(name[1])\n",
    "    if name[3][1] == '':\n",
    "        del name[3][1]\n",
    "        name.append('A')\n",
    "    elif name[3][1] == 'b':\n",
    "        del name[3][1]\n",
    "        name.append('B')\n",
    "    name[3] = name[3][0].replace('(','.')\n",
    "    name[3] = float(name[3].replace(')',''))\n",
    "\n",
    "    if name[0] == 'NO':\n",
    "        exp = (name[1], name[3], name[4])\n",
    "    else:\n",
    "        exp = (name[3], name[1], name[4])\n",
    "        \n",
    "    df = pd.read_csv( WD + file, header = None, sep = '\\t')\n",
    "    df.columns = ['time','I']\n",
    "    \n",
    "    df.time = pd.to_timedelta(df.time, unit = 'minutes')\n",
    "    df = df.set_index('time')\n",
    "    \n",
    "    \n",
    "    df['I'] = df['I']*1.3*1e-6 #Corriente en amperes \n",
    "    \n",
    "    experiments[exp] = df"
   ]
  },
  {
   "cell_type": "code",
   "execution_count": 280,
   "metadata": {},
   "outputs": [],
   "source": [
    "def leastsq_func(params, *args):\n",
    "    n_points_per_experiment = args[0]\n",
    "    x_data = args[1]\n",
    "    y_data = args[2]\n",
    "    conc_per_experiment = args[3]\n",
    "    \n",
    "    #factor = params[0]\n",
    "    k_vals = [10**i for i in params]\n",
    "    \n",
    "    yfit = np.empty(y_data.shape)\n",
    "    \n",
    "    left = 0\n",
    "    for i, val in enumerate(n_points_per_experiment):\n",
    "        right = left + val\n",
    "        yfit[left:right] = 96500*sim_t(x_data[left:right], k_vals, conc_per_experiment[i])\n",
    "        left = right\n",
    "    return y_data - yfit\n",
    "\n",
    "def build_multiple_experiments2(experiments, use_list, ini_point, fin_point):\n",
    "    usable_experiments = sorted(list(use_list))\n",
    "    \n",
    "    x_data = []\n",
    "    y_data = []\n",
    "    n_points = []\n",
    "    step = 1\n",
    "    for exp in usable_experiments:\n",
    "        x_data.extend(experiments[exp].I[ini_point:fin_point:step].index.total_seconds().values)\n",
    "        y_data.extend(experiments[exp].I[ini_point:fin_point:step].values)\n",
    "        n_points.append(len(experiments[exp].I[ini_point:fin_point:step].index.total_seconds().values))\n",
    "    \n",
    "    x_data = np.array(x_data)\n",
    "    y_data = np.array(y_data)\n",
    "    return x_data, y_data, n_points, usable_experiments"
   ]
  },
  {
   "cell_type": "code",
   "execution_count": 281,
   "metadata": {},
   "outputs": [],
   "source": [
    "ini_point = 0\n",
    "fin_point = -1\n",
    "\n",
    "use_list = [(2.0, 2.0, 'A')]\n",
    "#use_list = list(experiments.keys())\n",
    "\n",
    "x_exp, y_exp, n_points, conc_list = build_multiple_experiments2(experiments, use_list, ini_point, fin_point)\n",
    "\n",
    "y0_vec = []\n",
    "for i in conc_list:\n",
    "    y0 = [i[0], i[1], 0.0, 0.0, 0.0, 0.0, 0.0, 0.0, 0.0, 1.2e-3, 0.0, 0.0, 0.0]\n",
    "    y0_vec.append(y0)\n",
    "y0_vec = np.array(y0_vec)*1e-6"
   ]
  },
  {
   "cell_type": "code",
   "execution_count": 288,
   "metadata": {},
   "outputs": [
    {
     "name": "stderr",
     "output_type": "stream",
     "text": [
      "/Users/dbikiel/opt/anaconda3/envs/test/lib/python3.7/site-packages/ipykernel_launcher.py:8: RuntimeWarning: overflow encountered in double_scalars\n",
      "  \n",
      "/Users/dbikiel/opt/anaconda3/envs/test/lib/python3.7/site-packages/scipy/integrate/odepack.py:248: ODEintWarning: Illegal input detected (internal error). Run with full_output = 1 to get quantitative information.\n",
      "  warnings.warn(warning_msg, ODEintWarning)\n",
      "<string>:3: RuntimeWarning: invalid value encountered in double_scalars\n",
      "/Users/dbikiel/opt/anaconda3/envs/test/lib/python3.7/site-packages/scipy/integrate/odepack.py:248: ODEintWarning: Repeated convergence failures (perhaps bad Jacobian or tolerances). Run with full_output = 1 to get quantitative information.\n",
      "  warnings.warn(warning_msg, ODEintWarning)\n",
      "/Users/dbikiel/opt/anaconda3/envs/test/lib/python3.7/site-packages/scipy/integrate/odepack.py:248: ODEintWarning: Excess work done on this call (perhaps wrong Dfun type). Run with full_output = 1 to get quantitative information.\n",
      "  warnings.warn(warning_msg, ODEintWarning)\n"
     ]
    },
    {
     "name": "stdout",
     "output_type": "stream",
     "text": [
      "[0.01269038260124202, 210177.00543702312, 1263.5644498561057, 2.1436503218884447e+21]\n"
     ]
    }
   ],
   "source": [
    "p0 = [1e-2, 1e5, 1e3, 1e-2]\n",
    "params = [np.log10(i) for i in p0]\n",
    "args = (n_points, x_exp, y_exp, y0_vec)\n",
    "result = leastsq(leastsq_func, params, args = args)\n",
    "k_vals = [10**i for i in result[0]]\n",
    "print(k_vals)"
   ]
  },
  {
   "cell_type": "code",
   "execution_count": 289,
   "metadata": {},
   "outputs": [
    {
     "data": {
      "image/png": "[encoded data removed]",
      "text/plain": [
       "<Figure size 1512x504 with 2 Axes>"
      ]
     },
     "metadata": {},
     "output_type": "display_data"
    }
   ],
   "source": [
    "\n",
    "fig, ax = plt.subplots(len(conc_list)+1, figsize = (21,len(conc_list)*7), sharex=True)\n",
    "for i, exp in enumerate(conc_list):\n",
    "    \n",
    "    tspan = experiments[exp].I[ini_point:fin_point].index.total_seconds().values\n",
    "    exp_data = experiments[exp].I[ini_point:fin_point].values\n",
    "    \n",
    "    ax[i].plot(tspan, exp_data , 'b.', label = str(exp))\n",
    "    ax[i].plot(tspan, 96500*sim_t(tspan, k_vals, y0_vec[i]),'r')\n",
    "    ax[i].legend()"
   ]
  },
  {
   "cell_type": "code",
   "execution_count": null,
   "metadata": {},
   "outputs": [],
   "source": []
  }
 ],
 "metadata": {
  "kernelspec": {
   "display_name": "Python 3",
   "language": "python",
   "name": "python3"
  },
  "language_info": {
   "codemirror_mode": {
    "name": "ipython",
    "version": 3
   },
   "file_extension": ".py",
   "mimetype": "text/x-python",
   "name": "python",
   "nbconvert_exporter": "python",
   "pygments_lexer": "ipython3",
   "version": "3.7.6"
  }
 },
 "nbformat": 4,
 "nbformat_minor": 4
}
